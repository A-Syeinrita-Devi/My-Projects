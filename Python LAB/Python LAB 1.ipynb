{
 "cells": [
  {
   "cell_type": "markdown",
   "metadata": {},
   "source": [
    "### QUESTION 1\n",
    "\n",
    "#### Question 1(a)\n",
    "\n",
    "Write a program to display the first and last colors from the following list.\n",
    "\n",
    "    color_list = [\"Red\", \"Green\", \"White\" , \"Black\"]"
   ]
  },
  {
   "cell_type": "code",
   "execution_count": 1,
   "metadata": {},
   "outputs": [
    {
     "name": "stdout",
     "output_type": "stream",
     "text": [
      "First color: Red\n",
      "Last color: Black\n"
     ]
    }
   ],
   "source": [
    "# WRITE YOUR CODE HERE\n",
    "color_list = [\"Red\", \"Green\", \"White\" , \"Black\"]\n",
    "#print(color_list[0],color_list[-1])\n",
    "\n",
    "# Print the first color\n",
    "print(\"First color:\", color_list[0])\n",
    "\n",
    "# Print the last color\n",
    "print(\"Last color:\", color_list[-1])\n"
   ]
  },
  {
   "cell_type": "markdown",
   "metadata": {},
   "source": [
    "#### Question 1(b)\n",
    "Write a function that receive a number, then:\n",
    "- if the given number is less than 17, return the difference between the given number and 17 \n",
    "- if the number is greater than 17 return double of the absolute difference"
   ]
  },
  {
   "cell_type": "code",
   "execution_count": 2,
   "metadata": {},
   "outputs": [
    {
     "name": "stdout",
     "output_type": "stream",
     "text": [
      "7\n"
     ]
    }
   ],
   "source": [
    "# WRITE YOUR CODE HERE\n",
    "\n",
    "def find_difference(num):\n",
    "    if num <= 17:\n",
    "        return 17 - num\n",
    "    else:\n",
    "        return abs(num - 17) * 2 \n",
    "\n",
    "# print result for num = 7 (testing)\n",
    "print(find_difference(10))"
   ]
  },
  {
   "cell_type": "markdown",
   "metadata": {},
   "source": [
    "#### Question 1(c)\n",
    "\n",
    "Write a program to print all even numbers from a given numbers list in the same order shown below and stop the printing for any numbers that come after 237 in the sequence.\n",
    "\n",
    "numbers = [ 386, 462, 47, 418, 907, 344, 236, 375, 823, 566, 597, 978, 328, 615, 953, 345, \n",
    "    399, 162, 758, 219, 918, 237, 412, 566, 826, 248, 866, 950, 626, 949, 687, 217, \n",
    "    815, 67, 104, 58, 512, 24, 892, 894, 767, 553, 81, 379, 843, 831, 445, 742, 717, \n",
    "    958,743, 527\n",
    "    ]"
   ]
  },
  {
   "cell_type": "code",
   "execution_count": 3,
   "metadata": {},
   "outputs": [
    {
     "name": "stdout",
     "output_type": "stream",
     "text": [
      "[386, 462, 418, 344, 236, 566, 978, 328, 162, 758, 918]\n"
     ]
    }
   ],
   "source": [
    "# WRITE YOUR CODE HERE\n",
    "\n",
    "\n",
    "numbers = [ 386, 462, 47, 418, 907, 344, 236, 375, 823, 566, 597, 978, 328, 615, 953, 345, 399, 162, 758, 219, 918, 237, 412, 566, 826, 248, 866, 950, 626, 949, 687, 217, 815, 67, 104, 58, 512, 24, 892, 894, 767, 553, 81, 379, 843, 831, 445, 742, 717, 958,743, 527 ]\n",
    "\n",
    "numbersfinal = []\n",
    "\n",
    "for number in numbers:\n",
    "    if number == 237:\n",
    "        break\n",
    "    elif number % 2 == 0:\n",
    "        numbersfinal.append(number)\n",
    "\n",
    "print(numbersfinal)\n"
   ]
  },
  {
   "cell_type": "markdown",
   "metadata": {},
   "source": [
    "#### Question 1(d)\n",
    "Write a function to get a single string from two given strings, separated by a space and swap the first two characters of each string.\n",
    "\n",
    "Example:\n",
    "- Sample String : \n",
    "\n",
    "        'abc', 'xyz'\n",
    "\n",
    "- Expected Result : \n",
    "\n",
    "        'xyc abz'"
   ]
  },
  {
   "cell_type": "code",
   "execution_count": 4,
   "metadata": {},
   "outputs": [
    {
     "name": "stdout",
     "output_type": "stream",
     "text": [
      "xyc abz\n"
     ]
    }
   ],
   "source": [
    "# WRITE YOUR CODE HERE\n",
    "\n",
    "def mix_up(a, b):\n",
    "  new_a = b[:2] + a[2:]\n",
    "  new_b = a[:2] + b[2:]\n",
    "\n",
    "  return new_a + ' ' + new_b\n",
    "\n",
    "print(mix_up('abc', 'xyz'))\n"
   ]
  },
  {
   "cell_type": "markdown",
   "metadata": {},
   "source": [
    "### QUESTION 2\n",
    "\n",
    "#### Question 2(a)\n",
    "\n",
    "Write a program to find the numbers between 1500 and 2700 (both included) which are divisible by 7 and multiple of 5. Those numbers need to be stored in an array. Display all the numbers in the array."
   ]
  },
  {
   "cell_type": "code",
   "execution_count": 5,
   "metadata": {},
   "outputs": [
    {
     "name": "stdout",
     "output_type": "stream",
     "text": [
      "array('i', [1505, 1540, 1575, 1610, 1645, 1680, 1715, 1750, 1785, 1820, 1855, 1890, 1925, 1960, 1995, 2030, 2065, 2100, 2135, 2170, 2205, 2240, 2275, 2310, 2345, 2380, 2415, 2450, 2485, 2520, 2555, 2590, 2625, 2660, 2695])\n",
      "\n",
      "<class 'array.array'>\n"
     ]
    }
   ],
   "source": [
    "# WRITE YOUR CODE HERE\n",
    "\n",
    "numbers=[]\n",
    "\n",
    "#loop through all the numbers between 1500 and 2700 (both included)\n",
    "for x in range(1500, 2701):\n",
    "    # check if the number is divisible by 7 and multiple of 5\n",
    "    if (x%7==0) and (x%5==0):\n",
    "        # if yes, append it to the numbers_array\n",
    "        numbers.append((x))\n",
    "\n",
    "from array import *\n",
    "\n",
    "# print the numbers in the array\n",
    "array= (array('i',numbers))\n",
    "print(array)\n",
    "\n",
    "print()\n",
    "\n",
    "#check the result type\n",
    "print(type(array))"
   ]
  },
  {
   "cell_type": "markdown",
   "metadata": {},
   "source": [
    "#### Question 2(b) \n",
    "\n",
    "Given an input list [34, 54, 67, 89, 11, 43, 94], use ```pop```, ```insert``` and ```append``` methods to\n",
    "- remove the element at index 4 \n",
    "- add it to the 2nd position and at the end of the list\n",
    "\n",
    "\n",
    "Expected output:\n",
    "\n",
    "    Original list  [34, 54, 67, 89, 11, 43, 94]\n",
    "    List after removing element at index 4  [34, 54, 67, 89, 43, 94]\n",
    "    List after Adding element at index 2  [34, 54, 11, 67, 89, 43, 94]\n",
    "    List after Adding element at last  [34, 54, 11, 67, 89, 43, 94, 11]"
   ]
  },
  {
   "cell_type": "code",
   "execution_count": 6,
   "metadata": {},
   "outputs": [
    {
     "name": "stdout",
     "output_type": "stream",
     "text": [
      "Original list  [34, 54, 67, 89, 11, 43, 94]\n",
      "List After removing element at index 4  [34, 54, 67, 89, 43, 94]\n",
      "List after Adding element at index 2  [34, 54, 11, 67, 89, 43, 94]\n",
      "List after Adding element at last  [34, 54, 11, 67, 89, 43, 94, 11]\n"
     ]
    }
   ],
   "source": [
    "# WRITE YOUR CODE HERE\n",
    "\n",
    "sample_list = [34, 54, 67, 89, 11, 43, 94]\n",
    "\n",
    "print(\"Original list \", sample_list)\n",
    "\n",
    "# remove the element at index 4\n",
    "element = sample_list.pop(4)\n",
    "print(\"List After removing element at index 4 \", sample_list)\n",
    "\n",
    "# add the removed element at index 2\n",
    "sample_list.insert(2, element)\n",
    "print(\"List after Adding element at index 2 \", sample_list)\n",
    "\n",
    "# add the removed element at the end of the list\n",
    "sample_list.append(element)\n",
    "print(\"List after Adding element at last \", sample_list)"
   ]
  },
  {
   "cell_type": "markdown",
   "metadata": {},
   "source": [
    "#### Question 2(c)\n",
    "\n",
    "Convert the following code to list comprehension.\n",
    "\n",
    "    numbers = [1, 2, 3, 4, 5]\n",
    "\tsquares = []\n",
    "\tfor n in numbers:\n",
    "    \t\tsquares.append(n**2)\n"
   ]
  },
  {
   "cell_type": "code",
   "execution_count": 7,
   "metadata": {},
   "outputs": [
    {
     "name": "stdout",
     "output_type": "stream",
     "text": [
      "[1, 4, 9, 16, 25]\n"
     ]
    }
   ],
   "source": [
    "# WRITE YOUR CODE HERE\n",
    "\n",
    "numbers = [1, 2, 3, 4, 5]\n",
    "squares = [n**2 for n in numbers]\n",
    "\n",
    "print(squares)"
   ]
  },
  {
   "cell_type": "markdown",
   "metadata": {},
   "source": [
    "#### Question 2(d)\n",
    "\n",
    "    different_num = []\n",
    "\tlist_a = [1, 2, 3]\n",
    "\tlist_b = [2, 7]\n",
    "\tfor x in list_a:\n",
    "    \t\tfor y in list_b:\n",
    "        \tif x != y:\n",
    "            \tcouple = (x,y)\n",
    "            \tdifferent_num.append(couple)\n"
   ]
  },
  {
   "cell_type": "code",
   "execution_count": 8,
   "metadata": {},
   "outputs": [
    {
     "name": "stdout",
     "output_type": "stream",
     "text": [
      "[(1, 2), (1, 7), (2, 7), (3, 2), (3, 7)]\n"
     ]
    }
   ],
   "source": [
    "# WRITE YOUR CODE HERE\n",
    "\n",
    "\n",
    "list_a = [1, 2, 3]\n",
    "list_b = [2, 7]\n",
    "different_num = [(x,y) for x in list_a for y in list_b if x!=y]\n",
    "\n",
    "print(different_num)\n"
   ]
  },
  {
   "cell_type": "markdown",
   "metadata": {},
   "source": [
    "### QUESTION 3 \n",
    "\n",
    "Given a data file that consists of an example daily sale information recorded manually for each of the transaction for a certain period. The information in the file consists of date, item name, amount sold, and price per unit.\n",
    "\n",
    "<br>\n",
    "<img src='Fig1.png' width='300px'>\n",
    "<p style=\"text-align: center;\">The sample of the data</p>\n"
   ]
  },
  {
   "cell_type": "markdown",
   "metadata": {},
   "source": [
    "#### Question 3(a)\n",
    "Reads the data file in Python."
   ]
  },
  {
   "cell_type": "code",
   "execution_count": 9,
   "metadata": {},
   "outputs": [
    {
     "name": "stdout",
     "output_type": "stream",
     "text": [
      "['2020-09-23 Item_A 5 1.90', '2020-09-23 Item_B 6 1.20', '2020-09-23 Item_A 2 1.90', '2020-09-23 Item_B 3 1.20', '2020-09-24 Item_A 13 1.90', '2020-09-24 Item_B 2 1.20', '2020-09-24 Item_C 8 1.30', '2020-09-25 Item_D 7 2.70', '2020-09-25 Item_A 15 1.90', '2020-09-25 Item_D 7 2.70', '2020-09-25 Item_B 6 1.20', '2020-09-26 Item_B 1 1.20', '2020-09-26 Item_C 8 1.30', '2020-09-26 Item_B 11 1.20', '2020-09-26 Item_A 5 1.90', '2020-09-26 Item_B 2 1.20', '2020-09-26 Item_B 12 1.20', '2020-09-26 Item_A 4 1.90', '2020-09-26 Item_B 7 1.20', '2020-09-27 Item_E 2 2.20', '2020-09-27 Item_A 2 1.90', '2020-09-27 Item_B 3 1.20', '2020-09-27 Item_C 12 1.30', '2020-09-27 Item_D 15 2.70', '2020-09-28 Item_E 2 2.20', '2020-09-28 Item_F 2 3.20', '2020-09-28 Item_A 7 1.90', '2020-09-28 Item_F 2 3.20', '2020-09-28 Item_A 5 1.90', '2020-09-28 Item_F 2 3.20', '2020-09-28 Item_A 5 1.90', '2020-09-28 Item_B 6 1.20', '2020-09-28 Item_C 11 1.30', '2020-09-28 Item_D 11 2.70', '2020-09-29 Item_A 5 1.90', '2020-09-29 Item_B 4 1.20', '2020-09-29 Item_A 5 1.90', '2020-09-29 Item_B 5 1.20', '2020-09-29 Item_A 5 1.90', '2020-09-29 Item_B 6 1.20', '2020-09-30 Item_A 6 1.90', '2020-09-30 Item_B 6 1.20', '2020-09-30 Item_C 7 1.30', '2020-09-30 Item_D 2 2.70', '2020-09-30 Item_C 8 1.30', '2020-09-30 Item_D 8 2.70', '2020-09-30 Item_C 9 1.30', '2020-09-30 Item_D 7 2.70', '2020-09-30 Item_E 2 2.20', '2020-09-30 Item_F 2 3.20']\n"
     ]
    }
   ],
   "source": [
    "# WRITE YOUR CODE HERE\n",
    "\n",
    "path = 'data_assignment_1.txt'\n",
    "\n",
    "# Open the file in read mode\n",
    "with open(path, 'r') as f:\n",
    "   \n",
    "    for line in f:\n",
    "        pass\n",
    "\n",
    "# Read all lines of the file into a list and strip newline characters\n",
    "lines = [x.rstrip() for x in open(path)]\n",
    "print(lines)\n",
    "\n"
   ]
  },
  {
   "cell_type": "markdown",
   "metadata": {},
   "source": [
    "#### Question 3(b)\n",
    "Creates a function in Python called: **calculate_daily_sale** that:\n",
    "   - Able to calculate and return the sale of each item for every day.\n",
    "   - You need to determine the data structure for the returned information, where the returned result should be able to be accessed to show the sale of exact item on a specified day. E.g.: \n",
    "      - ```result[“2020-09-25”]``` *will returns the sale for each item on that day.*\n",
    "      - ```result[“2020-09-25”][“Item_B”]``` *will returns the sale of Item B on that day.*"
   ]
  },
  {
   "cell_type": "code",
   "execution_count": 20,
   "metadata": {},
   "outputs": [
    {
     "name": "stdout",
     "output_type": "stream",
     "text": [
      "{'Item_D': 37.8, 'Item_A': 28.5, 'Item_B': 7.2}\n",
      "7.2\n"
     ]
    }
   ],
   "source": [
    "def calculate_daily_sale(path):\n",
    "    # Create an empty dictionary to store the daily sales data\n",
    "    result = {}\n",
    "\n",
    "    # Iterate over the lines and parse the data into the result dictionary\n",
    "    for line in lines:\n",
    "        # Split the line into its components (date, item name, amount sold, price per unit)\n",
    "        date, item, amount, price = line.strip().split()\n",
    "\n",
    "        # Calculate the total sale for this item on this day\n",
    "        sale = float(amount) * float(price)\n",
    "        \n",
    "        # Round the sale value to two decimal places\n",
    "        sale = round(sale, 2)\n",
    "\n",
    "        # Add the sale to the result dictionary\n",
    "        if date in result:\n",
    "            if item in result[date]:\n",
    "                result[date][item] += sale\n",
    "            else:\n",
    "                result[date][item] = sale\n",
    "        else:\n",
    "            result[date] = {item: sale}\n",
    "\n",
    "    return result\n",
    "\n",
    "result = calculate_daily_sale(path)\n",
    "\n",
    "# Print the results with two decimal places\n",
    "print(result['2020-09-25'])\n",
    "print(result['2020-09-25']['Item_B'])\n"
   ]
  },
  {
   "cell_type": "markdown",
   "metadata": {},
   "source": [
    "#### Question 3(c)\n",
    "Creates a function in Python called: **get_total_sale** that:\n",
    "   - Able to combine the sale of a specific item throughout the period in the data file.\n",
    "   - The function should receive ONE argument:\n",
    "     - The result variable returned form **calculate_daily_sale**\n",
    "   - The function should return the total sale of each item throughout the period."
   ]
  },
  {
   "cell_type": "code",
   "execution_count": 21,
   "metadata": {},
   "outputs": [
    {
     "name": "stdout",
     "output_type": "stream",
     "text": [
      "{'Item_A': 159.6, 'Item_B': 96.0, 'Item_C': 81.9, 'Item_D': 153.9, 'Item_E': 13.200000000000001, 'Item_F': 25.6}\n"
     ]
    }
   ],
   "source": [
    "# WRITE YOUR CODE HERE\n",
    "\n",
    "def get_total_sale(result):\n",
    "    # Create an empty dictionary to store the total sales data\n",
    "    total_sale = {}\n",
    "\n",
    "    # Iterate over the dates and items in the result dictionary\n",
    "    for date in result:\n",
    "        for item in result[date]:\n",
    "            # Add the sale to the total sale for this item\n",
    "            if item in total_sale:\n",
    "                total_sale[item] += result[date][item]\n",
    "            else:\n",
    "                total_sale[item] = result[date][item]\n",
    "\n",
    "    return total_sale\n",
    "\n",
    "total_sale = get_total_sale(result)\n",
    "\n",
    "#print the results\n",
    "print(total_sale)\n"
   ]
  }
 ],
 "metadata": {
  "kernelspec": {
   "display_name": "Python 3 (ipykernel)",
   "language": "python",
   "name": "python3"
  },
  "language_info": {
   "codemirror_mode": {
    "name": "ipython",
    "version": 3
   },
   "file_extension": ".py",
   "mimetype": "text/x-python",
   "name": "python",
   "nbconvert_exporter": "python",
   "pygments_lexer": "ipython3",
   "version": "3.9.13"
  }
 },
 "nbformat": 4,
 "nbformat_minor": 4
}
