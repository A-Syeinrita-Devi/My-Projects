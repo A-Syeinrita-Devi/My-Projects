{
 "cells": [
  {
   "cell_type": "markdown",
   "id": "3212298b",
   "metadata": {},
   "source": [
    "# ORO PROJECT PYTHON\n",
    "\n",
    "#### Group Members:\n",
    "* **SYEINRITA DEVI ANBEALAGAN MCS221022**\n",
    "* **FAN CHIN WEI MCS221024**\n",
    "* **ZHANG QI WEI MCS221013**\n",
    "\n",
    "\n",
    "\n",
    "- Due: 22nd January 2024\n",
    "- Mode: Group Assignment\n",
    "- Submission: E-Learning"
   ]
  },
  {
   "cell_type": "code",
   "execution_count": 1,
   "id": "5f5ae60d",
   "metadata": {},
   "outputs": [],
   "source": [
    "# import PuLP modeler functions\n",
    "from pulp import *"
   ]
  },
  {
   "cell_type": "markdown",
   "id": "e81f6305",
   "metadata": {},
   "source": [
    "### Question a"
   ]
  },
  {
   "cell_type": "code",
   "execution_count": 2,
   "id": "ca77ce62",
   "metadata": {},
   "outputs": [],
   "source": [
    "# Creates a list of all the supply nodes\n",
    "Plants=['Kingsport','Danville','Macon','Selma','Columbus','Allentown','Dummy Plant']"
   ]
  },
  {
   "cell_type": "code",
   "execution_count": 3,
   "id": "c12c4382",
   "metadata": {},
   "outputs": [],
   "source": [
    "# Creates a dictionary for the number of units of supply for each supply node\n",
    "\n",
    "supply ={'Kingsport':35,\n",
    "         'Danville':26,\n",
    "         'Macon':42,\n",
    "         'Selma':53,\n",
    "         'Columbus':29,\n",
    "         'Allentown':38,\n",
    "         'Dummy Plant':27\n",
    "        }"
   ]
  },
  {
   "cell_type": "code",
   "execution_count": 4,
   "id": "90d84e57",
   "metadata": {},
   "outputs": [],
   "source": [
    "# Creates a list of all demand nodes\n",
    "Sites =['Whitewater','Los Canos','Duras']"
   ]
  },
  {
   "cell_type": "code",
   "execution_count": 5,
   "id": "32a2e38d",
   "metadata": {},
   "outputs": [],
   "source": [
    "# Creates a dictionary for the number of units of demand for each demand node\n",
    "demand = {'Whitewater':65,\n",
    "          'Los Canos':80,\n",
    "          'Duras':105\n",
    "}"
   ]
  },
  {
   "cell_type": "code",
   "execution_count": 6,
   "id": "b1348ce9",
   "metadata": {},
   "outputs": [],
   "source": [
    "costs = [#Plants\n",
    "#A B C\n",
    "[12,15,17],# 1 Sites\n",
    "[14,9,10], #2\n",
    "[13,20,11], #3\n",
    "[17,16,19], #4\n",
    "[7,14,12], #5\n",
    "[22,16,18], #6\n",
    "[0,0,0] #7\n",
    "]"
   ]
  },
  {
   "cell_type": "code",
   "execution_count": 7,
   "id": "e5f9a358",
   "metadata": {},
   "outputs": [],
   "source": [
    "# The cost data is made into a dictionary\n",
    "costs = makeDict([Plants,Sites],costs,0)"
   ]
  },
  {
   "cell_type": "code",
   "execution_count": 8,
   "id": "6deffc21",
   "metadata": {},
   "outputs": [],
   "source": [
    "# Creates the 'prob' variable to contain the problem data\n",
    "prob = LpProblem(\"Waste_Distribution_Transportation_Model_Q1\",LpMinimize)"
   ]
  },
  {
   "cell_type": "code",
   "execution_count": 9,
   "id": "1e7237e3",
   "metadata": {},
   "outputs": [],
   "source": [
    "# Creates a list of tuples containing all the possible routes for transport\n",
    "Routes = [(i,j) for i in Plants for j in Sites]"
   ]
  },
  {
   "cell_type": "code",
   "execution_count": 10,
   "id": "013dd3ef",
   "metadata": {},
   "outputs": [],
   "source": [
    "# A dictionary called ‘vars' is created to contain the referenced variables(the routes)\n",
    "vars = LpVariable.dicts(\"Route\",(Plants,Sites),0,None,LpInteger)"
   ]
  },
  {
   "cell_type": "code",
   "execution_count": 11,
   "id": "b0c699ba",
   "metadata": {},
   "outputs": [],
   "source": [
    "# The objective function is added to 'prob' first\n",
    "prob += lpSum([vars[i][j]*costs[i][j] for (i,j) in Routes]), \"Sum_of_Transporting_Costs\""
   ]
  },
  {
   "cell_type": "code",
   "execution_count": 12,
   "id": "b8dc1829",
   "metadata": {},
   "outputs": [],
   "source": [
    "# The supply maximum constraints are added to prob for each supply node (Plants)\n",
    "for i in Plants:\n",
    "    prob += lpSum([vars[i][j] for j in Sites]) ==supply[i], \"Sum_of_Products_out_of_Plants_%s\"%i"
   ]
  },
  {
   "cell_type": "code",
   "execution_count": 13,
   "id": "f6044227",
   "metadata": {},
   "outputs": [],
   "source": [
    "# The demand minimum constraints are added to prob for each demand node (Sites)\n",
    "for j in Sites:\n",
    "    prob += lpSum([vars[i][j] for i in Plants]) ==demand[j], \"Sum_of_Products_into_Sites%s\"%j"
   ]
  },
  {
   "cell_type": "code",
   "execution_count": 14,
   "id": "2c47711e",
   "metadata": {},
   "outputs": [
    {
     "data": {
      "text/plain": [
       "[Route_Allentown_Duras,\n",
       " Route_Allentown_Los_Canos,\n",
       " Route_Allentown_Whitewater,\n",
       " Route_Columbus_Duras,\n",
       " Route_Columbus_Los_Canos,\n",
       " Route_Columbus_Whitewater,\n",
       " Route_Danville_Duras,\n",
       " Route_Danville_Los_Canos,\n",
       " Route_Danville_Whitewater,\n",
       " Route_Dummy_Plant_Duras,\n",
       " Route_Dummy_Plant_Los_Canos,\n",
       " Route_Dummy_Plant_Whitewater,\n",
       " Route_Kingsport_Duras,\n",
       " Route_Kingsport_Los_Canos,\n",
       " Route_Kingsport_Whitewater,\n",
       " Route_Macon_Duras,\n",
       " Route_Macon_Los_Canos,\n",
       " Route_Macon_Whitewater,\n",
       " Route_Selma_Duras,\n",
       " Route_Selma_Los_Canos,\n",
       " Route_Selma_Whitewater]"
      ]
     },
     "execution_count": 14,
     "metadata": {},
     "output_type": "execute_result"
    }
   ],
   "source": [
    "# The problem data is written to an .lp file\n",
    "prob.writeLP(\"Waste Distribution Transportation Model Question a.lp\")"
   ]
  },
  {
   "cell_type": "code",
   "execution_count": 15,
   "id": "d897d998",
   "metadata": {},
   "outputs": [
    {
     "data": {
      "text/plain": [
       "1"
      ]
     },
     "execution_count": 15,
     "metadata": {},
     "output_type": "execute_result"
    }
   ],
   "source": [
    "# The problem is solved using PuLP's choice of Solver\n",
    "prob.solve()"
   ]
  },
  {
   "cell_type": "code",
   "execution_count": 16,
   "id": "d3633845",
   "metadata": {},
   "outputs": [
    {
     "name": "stdout",
     "output_type": "stream",
     "text": [
      "Status: Optimal\n"
     ]
    }
   ],
   "source": [
    "# The status of the solution is printed to the screen\n",
    "print(\"Status:\", LpStatus[prob.status])"
   ]
  },
  {
   "cell_type": "code",
   "execution_count": 17,
   "id": "c4c4031c",
   "metadata": {
    "scrolled": false
   },
   "outputs": [
    {
     "name": "stdout",
     "output_type": "stream",
     "text": [
      "Route_Allentown_Duras = 10.00\n",
      "Route_Allentown_Los_Canos = 28.00\n",
      "Route_Allentown_Whitewater = 0.00\n",
      "Route_Columbus_Duras = 0.00\n",
      "Route_Columbus_Los_Canos = 0.00\n",
      "Route_Columbus_Whitewater = 29.00\n",
      "Route_Danville_Duras = 26.00\n",
      "Route_Danville_Los_Canos = 0.00\n",
      "Route_Danville_Whitewater = 0.00\n",
      "Route_Dummy_Plant_Duras = 27.00\n",
      "Route_Dummy_Plant_Los_Canos = 0.00\n",
      "Route_Dummy_Plant_Whitewater = 0.00\n",
      "Route_Kingsport_Duras = 0.00\n",
      "Route_Kingsport_Los_Canos = 0.00\n",
      "Route_Kingsport_Whitewater = 35.00\n",
      "Route_Macon_Duras = 42.00\n",
      "Route_Macon_Los_Canos = 0.00\n",
      "Route_Macon_Whitewater = 0.00\n",
      "Route_Selma_Duras = 0.00\n",
      "Route_Selma_Los_Canos = 52.00\n",
      "Route_Selma_Whitewater = 1.00\n",
      "Total Cost of Transportation = RM 2822.00\n"
     ]
    }
   ],
   "source": [
    "# Each of the variables is printed with its resolved optimum value\n",
    "for v in prob.variables():\n",
    "    print(v.name, \"=\", \"{:.2f}\".format(v.varValue))\n",
    "\n",
    "# The optimized objective function value is printed to the screen with two decimal places\n",
    "print(\"Total Cost of Transportation = RM {:.2f}\".format(value(prob.objective)))"
   ]
  },
  {
   "cell_type": "markdown",
   "id": "02a17b92",
   "metadata": {},
   "source": [
    "### Network Diagram"
   ]
  },
  {
   "cell_type": "code",
   "execution_count": 18,
   "id": "08939927",
   "metadata": {
    "scrolled": false
   },
   "outputs": [
    {
     "data": {
      "image/png": "[encoded data removed]",
      "text/plain": [
       "<Figure size 1000x600 with 1 Axes>"
      ]
     },
     "metadata": {},
     "output_type": "display_data"
    }
   ],
   "source": [
    "import networkx as nx\n",
    "import matplotlib.pyplot as plt\n",
    "\n",
    "G = nx.DiGraph()\n",
    "\n",
    "# Replace 'Plants' and 'Sites' with new names\n",
    "plants = ['Whitewater', 'Los Canos', 'Duras']\n",
    "sites = ['Kingsport', 'Danville', 'Macon', 'Selma', 'Columbus', 'Allentown', 'Dummy Plant']\n",
    "\n",
    "# Replace 'supply' and 'demand' with your actual supply and demand dictionaries\n",
    "supply = {'Whitewater': 100, 'Los Canos': 150, 'Duras': 200}\n",
    "demand = {'Kingsport': 50, 'Danville': 75, 'Macon': 100, 'Selma': 120, 'Columbus': 90, 'Allentown': 110, 'Dummy Plant': 0}\n",
    "\n",
    "# Add nodes for plants\n",
    "space_between_plants = 0.48  # Adjust as needed\n",
    "for plant in plants:\n",
    "    G.add_node(plant, pos=(0, (plants.index(plant) - len(plants) / 2) * space_between_plants), demand=-supply.get(plant, 0))\n",
    "\n",
    "# Increase space between sites by adjusting x-coordinate\n",
    "space_between_sites = 0.2  # Adjust as needed\n",
    "for site in sites:\n",
    "    G.add_node(site, pos=(1, (sites.index(site) - len(sites) / 2) * space_between_sites), demand=demand.get(site, 0))\n",
    "\n",
    "# Add edges with capacities\n",
    "for (i, j) in Routes:\n",
    "    capacity = vars[i][j].varValue\n",
    "    if capacity > 0:\n",
    "        G.add_edge(i, j, weight=costs[i][j], capacity=capacity)\n",
    "\n",
    "# Set custom positions for better layout\n",
    "custom_pos = {plant: (0, (plants.index(plant) - len(plants) / 2) * space_between_plants) for plant in plants}\n",
    "custom_pos.update({site: (1, (sites.index(site) - len(sites) / 2) * space_between_sites) for site in sites})\n",
    "\n",
    "pos = nx.get_node_attributes(G, 'pos')\n",
    "\n",
    "# Format edge labels with two decimal places\n",
    "edge_labels = {(i, j): \"{:.2f}\".format(vars[i][j].varValue) for (i, j) in Routes if vars[i][j].varValue > 0}\n",
    "\n",
    "plt.figure(figsize=(10, 6))\n",
    "nx.draw(G, pos=custom_pos, with_labels=True, node_size=1000, node_color='lightpink', font_size=10, font_color='black', font_weight='bold')\n",
    "nx.draw_networkx_edge_labels(G, pos=custom_pos, edge_labels=edge_labels, font_color='green')\n",
    "plt.title(\"Transportation Network Diagram\")\n",
    "plt.show()\n"
   ]
  },
  {
   "cell_type": "markdown",
   "id": "1e5d9f0e",
   "metadata": {},
   "source": [
    "### Question b"
   ]
  },
  {
   "cell_type": "code",
   "execution_count": 19,
   "id": "ea36fc86",
   "metadata": {},
   "outputs": [],
   "source": [
    "# Import PuLP modeler functions\n",
    "from pulp import *\n",
    "\n",
    "# Creates a list of all the supply nodes (Plants)\n",
    "Plants = ['Kingsport', 'Danville', 'Macon', 'Selma', 'Columbus', 'Allentown', 'Dummy Plant']\n",
    "\n",
    "# Creates a dictionary for the number of units of supply for each supply node (Plants)\n",
    "supply = {'Kingsport': 35,\n",
    "          'Danville': 26,\n",
    "          'Macon': 42,\n",
    "          'Selma': 53,\n",
    "          'Columbus': 29,\n",
    "          'Allentown': 38,\n",
    "          'Dummy Plant': 27}\n",
    "\n",
    "# Creates a list of costs of each transportation path (Direct Shipping)\n",
    "costs_1 = [[0, 6, 4, 9, 7, 8, 0],\n",
    "           [6, 0, 11, 10, 12, 7, 0],\n",
    "           [5, 11, 0, 3, 7, 15, 0],\n",
    "           [9, 10, 3, 0, 3, 16, 0],\n",
    "           [7, 12, 7, 3, 0, 14, 0],\n",
    "           [8, 7, 15, 16, 14, 0, 0],\n",
    "           [0, 0, 0, 0, 0, 0, 0]]\n",
    "\n",
    "# List of Intermediate Plants\n",
    "Intermediate_Plants = ['Kingsport', 'Danville', 'Macon', 'Selma', 'Columbus', 'Allentown']\n",
    "\n",
    "# Supply data for Intermediate Plants\n",
    "supply1 = {'Kingsport': 35,\n",
    "           'Danville': 26,\n",
    "           'Macon': 42,\n",
    "           'Selma': 53,\n",
    "           'Columbus': 29,\n",
    "           'Allentown': 38}\n",
    "\n",
    "# Creates a list of all demand nodes (Waste Disposal Sites)\n",
    "Waste_Disposal_Sites = ['Whitewater', 'Los Canos', 'Duras']\n",
    "\n",
    "# Creates a dictionary for the number of units of demand for each demand node (Waste Disposal Sites)\n",
    "demand = {\n",
    "    'Whitewater': 65,\n",
    "    'Los Canos': 80,\n",
    "    'Duras': 105,\n",
    "}\n",
    "\n",
    "# Creates a list of costs of each transportation path (Transshipment)\n",
    "costs_2 = [[12, 15, 17],\n",
    "           [14, 9, 10],\n",
    "           [13, 20, 11],\n",
    "           [17, 16, 19],\n",
    "           [7, 14, 12],\n",
    "           [22, 16, 18]]\n",
    "\n",
    "# The cost data is made into a dictionary\n",
    "costs_1 = makeDict([Plants, Plants], costs_1, 0)\n",
    "\n",
    "# The cost data is made into a dictionary\n",
    "costs_2 = makeDict([Intermediate_Plants, Waste_Disposal_Sites], costs_2, 0)"
   ]
  },
  {
   "cell_type": "code",
   "execution_count": 20,
   "id": "a719e0d7",
   "metadata": {},
   "outputs": [],
   "source": [
    "# Creates the 'prob' variable to contain the problem data\n",
    "prob = LpProblem('Material_Supply_Problem', LpMinimize)"
   ]
  },
  {
   "cell_type": "code",
   "execution_count": 21,
   "id": "9e777593",
   "metadata": {},
   "outputs": [],
   "source": [
    "# Creates a list of tuples containing all the possible routes for transport\n",
    "Routes = [(i, j) for i in Plants for j in Plants]\n",
    "\n",
    "# A dictionary called 'Vars' is created to contain the referenced variables (the routes)\n",
    "vars = LpVariable.dicts('Route_1', (Plants, Plants), 0, None, LpInteger)\n",
    "\n",
    "# Creates a list of tuples containing all the possible routes for transport (Transshipment)\n",
    "Routes_2 = [(w, b) for w in Intermediate_Plants for b in Waste_Disposal_Sites]\n",
    "\n",
    "# A dictionary called 'Vars_2' is created to contain the referenced variables (the routes) for Transshipment\n",
    "vars_2 = LpVariable.dicts('Route_2', (Intermediate_Plants, Waste_Disposal_Sites), 0, None, LpInteger)"
   ]
  },
  {
   "cell_type": "code",
   "execution_count": 22,
   "id": "c94947e8",
   "metadata": {},
   "outputs": [],
   "source": [
    "# The objective function is added to 'prob' first\n",
    "prob += (\n",
    "    lpSum(([vars[s][w] * costs_1[s][w] for (s, w) in Routes])) + (lpSum([vars_2[w][b] * costs_2[w][b] for (w, b) in Routes_2])),\n",
    "    'Sum_of_Transporting_Costs',\n",
    ")"
   ]
  },
  {
   "cell_type": "code",
   "execution_count": 23,
   "id": "7fd79e6a",
   "metadata": {},
   "outputs": [],
   "source": [
    "# The supply maximum constraints are added to prob for each supply node (Plants)\n",
    "for s in Plants:\n",
    "    prob += (lpSum([vars[s][w] for w in Plants]) == supply[s],\n",
    "             'Sum_of_Products_out_of_Plants_%s' % s,)\n",
    "\n",
    "# The demand minimum constraints are added to prob for each demand node (Waste Disposal Sites)\n",
    "for b in Waste_Disposal_Sites:\n",
    "    prob += (lpSum([vars_2[w][b] for w in Intermediate_Plants]) == demand[b],\n",
    "             'Sum_of_Products_into_Waste_Disposal_Sites_%s' % b,)\n",
    "\n",
    "# Transshipment constraints: What is shipped into an Intermediate Plant must be shipped out.\n",
    "for w in Intermediate_Plants:\n",
    "    prob += (lpSum([vars[s][w] for s in Plants]) - lpSum([vars_2[w][p] for p in Waste_Disposal_Sites]) == 0,\n",
    "             'Sum_of_Products_out_of_Intermediate_Plant_%s' % w,)"
   ]
  },
  {
   "cell_type": "code",
   "execution_count": 24,
   "id": "00cadd16",
   "metadata": {
    "scrolled": false
   },
   "outputs": [
    {
     "data": {
      "text/plain": [
       "[Route_1_Allentown_Allentown,\n",
       " Route_1_Allentown_Columbus,\n",
       " Route_1_Allentown_Danville,\n",
       " Route_1_Allentown_Dummy_Plant,\n",
       " Route_1_Allentown_Kingsport,\n",
       " Route_1_Allentown_Macon,\n",
       " Route_1_Allentown_Selma,\n",
       " Route_1_Columbus_Allentown,\n",
       " Route_1_Columbus_Columbus,\n",
       " Route_1_Columbus_Danville,\n",
       " Route_1_Columbus_Dummy_Plant,\n",
       " Route_1_Columbus_Kingsport,\n",
       " Route_1_Columbus_Macon,\n",
       " Route_1_Columbus_Selma,\n",
       " Route_1_Danville_Allentown,\n",
       " Route_1_Danville_Columbus,\n",
       " Route_1_Danville_Danville,\n",
       " Route_1_Danville_Dummy_Plant,\n",
       " Route_1_Danville_Kingsport,\n",
       " Route_1_Danville_Macon,\n",
       " Route_1_Danville_Selma,\n",
       " Route_1_Dummy_Plant_Allentown,\n",
       " Route_1_Dummy_Plant_Columbus,\n",
       " Route_1_Dummy_Plant_Danville,\n",
       " Route_1_Dummy_Plant_Dummy_Plant,\n",
       " Route_1_Dummy_Plant_Kingsport,\n",
       " Route_1_Dummy_Plant_Macon,\n",
       " Route_1_Dummy_Plant_Selma,\n",
       " Route_1_Kingsport_Allentown,\n",
       " Route_1_Kingsport_Columbus,\n",
       " Route_1_Kingsport_Danville,\n",
       " Route_1_Kingsport_Dummy_Plant,\n",
       " Route_1_Kingsport_Kingsport,\n",
       " Route_1_Kingsport_Macon,\n",
       " Route_1_Kingsport_Selma,\n",
       " Route_1_Macon_Allentown,\n",
       " Route_1_Macon_Columbus,\n",
       " Route_1_Macon_Danville,\n",
       " Route_1_Macon_Dummy_Plant,\n",
       " Route_1_Macon_Kingsport,\n",
       " Route_1_Macon_Macon,\n",
       " Route_1_Macon_Selma,\n",
       " Route_1_Selma_Allentown,\n",
       " Route_1_Selma_Columbus,\n",
       " Route_1_Selma_Danville,\n",
       " Route_1_Selma_Dummy_Plant,\n",
       " Route_1_Selma_Kingsport,\n",
       " Route_1_Selma_Macon,\n",
       " Route_1_Selma_Selma,\n",
       " Route_2_Allentown_Duras,\n",
       " Route_2_Allentown_Los_Canos,\n",
       " Route_2_Allentown_Whitewater,\n",
       " Route_2_Columbus_Duras,\n",
       " Route_2_Columbus_Los_Canos,\n",
       " Route_2_Columbus_Whitewater,\n",
       " Route_2_Danville_Duras,\n",
       " Route_2_Danville_Los_Canos,\n",
       " Route_2_Danville_Whitewater,\n",
       " Route_2_Kingsport_Duras,\n",
       " Route_2_Kingsport_Los_Canos,\n",
       " Route_2_Kingsport_Whitewater,\n",
       " Route_2_Macon_Duras,\n",
       " Route_2_Macon_Los_Canos,\n",
       " Route_2_Macon_Whitewater,\n",
       " Route_2_Selma_Duras,\n",
       " Route_2_Selma_Los_Canos,\n",
       " Route_2_Selma_Whitewater]"
      ]
     },
     "execution_count": 24,
     "metadata": {},
     "output_type": "execute_result"
    }
   ],
   "source": [
    "# Write LP Function\n",
    "prob.writeLP(\"Waste Disposal Transshipment Model Question b.lp\")"
   ]
  },
  {
   "cell_type": "code",
   "execution_count": 25,
   "id": "f0270f9f",
   "metadata": {},
   "outputs": [
    {
     "data": {
      "text/plain": [
       "1"
      ]
     },
     "execution_count": 25,
     "metadata": {},
     "output_type": "execute_result"
    }
   ],
   "source": [
    "# The problem is solved using PuLP's choice of Solver\n",
    "prob.solve()"
   ]
  },
  {
   "cell_type": "code",
   "execution_count": 26,
   "id": "3b06cd69",
   "metadata": {},
   "outputs": [
    {
     "name": "stdout",
     "output_type": "stream",
     "text": [
      "Route_1_Allentown_Allentown = 0.00\n",
      "Route_1_Allentown_Columbus = 0.00\n",
      "Route_1_Allentown_Danville = 38.00\n",
      "Route_1_Allentown_Dummy_Plant = 0.00\n",
      "Route_1_Allentown_Kingsport = 0.00\n",
      "Route_1_Allentown_Macon = 0.00\n",
      "Route_1_Allentown_Selma = 0.00\n",
      "Route_1_Columbus_Allentown = 0.00\n",
      "Route_1_Columbus_Columbus = 29.00\n",
      "Route_1_Columbus_Danville = 0.00\n",
      "Route_1_Columbus_Dummy_Plant = 0.00\n",
      "Route_1_Columbus_Kingsport = 0.00\n",
      "Route_1_Columbus_Macon = 0.00\n",
      "Route_1_Columbus_Selma = 0.00\n",
      "Route_1_Danville_Allentown = 0.00\n",
      "Route_1_Danville_Columbus = 0.00\n",
      "Route_1_Danville_Danville = 26.00\n",
      "Route_1_Danville_Dummy_Plant = 0.00\n",
      "Route_1_Danville_Kingsport = 0.00\n",
      "Route_1_Danville_Macon = 0.00\n",
      "Route_1_Danville_Selma = 0.00\n",
      "Route_1_Dummy_Plant_Allentown = 0.00\n",
      "Route_1_Dummy_Plant_Columbus = 0.00\n",
      "Route_1_Dummy_Plant_Danville = 27.00\n",
      "Route_1_Dummy_Plant_Dummy_Plant = 0.00\n",
      "Route_1_Dummy_Plant_Kingsport = 0.00\n",
      "Route_1_Dummy_Plant_Macon = 0.00\n",
      "Route_1_Dummy_Plant_Selma = 0.00\n",
      "Route_1_Kingsport_Allentown = 0.00\n",
      "Route_1_Kingsport_Columbus = 0.00\n",
      "Route_1_Kingsport_Danville = 0.00\n",
      "Route_1_Kingsport_Dummy_Plant = 0.00\n",
      "Route_1_Kingsport_Kingsport = 0.00\n",
      "Route_1_Kingsport_Macon = 35.00\n",
      "Route_1_Kingsport_Selma = 0.00\n",
      "Route_1_Macon_Allentown = 0.00\n",
      "Route_1_Macon_Columbus = 0.00\n",
      "Route_1_Macon_Danville = 0.00\n",
      "Route_1_Macon_Dummy_Plant = 0.00\n",
      "Route_1_Macon_Kingsport = 0.00\n",
      "Route_1_Macon_Macon = 42.00\n",
      "Route_1_Macon_Selma = 0.00\n",
      "Route_1_Selma_Allentown = 0.00\n",
      "Route_1_Selma_Columbus = 36.00\n",
      "Route_1_Selma_Danville = 0.00\n",
      "Route_1_Selma_Dummy_Plant = 0.00\n",
      "Route_1_Selma_Kingsport = 0.00\n",
      "Route_1_Selma_Macon = 17.00\n",
      "Route_1_Selma_Selma = 0.00\n",
      "Route_2_Allentown_Duras = 0.00\n",
      "Route_2_Allentown_Los_Canos = 0.00\n",
      "Route_2_Allentown_Whitewater = 0.00\n",
      "Route_2_Columbus_Duras = 0.00\n",
      "Route_2_Columbus_Los_Canos = 0.00\n",
      "Route_2_Columbus_Whitewater = 65.00\n",
      "Route_2_Danville_Duras = 11.00\n",
      "Route_2_Danville_Los_Canos = 80.00\n",
      "Route_2_Danville_Whitewater = 0.00\n",
      "Route_2_Kingsport_Duras = 0.00\n",
      "Route_2_Kingsport_Los_Canos = 0.00\n",
      "Route_2_Kingsport_Whitewater = 0.00\n",
      "Route_2_Macon_Duras = 94.00\n",
      "Route_2_Macon_Los_Canos = 0.00\n",
      "Route_2_Macon_Whitewater = 0.00\n",
      "Route_2_Selma_Duras = 0.00\n",
      "Route_2_Selma_Los_Canos = 0.00\n",
      "Route_2_Selma_Whitewater = 0.00\n",
      "Total Cost of Transportation = RM 2884.00\n"
     ]
    }
   ],
   "source": [
    "# Each of the variables is printed with its resolved optimum value\n",
    "for v in prob.variables():\n",
    "    print(v.name, \"=\", \"{:.2f}\".format(v.varValue))\n",
    "\n",
    "# The optimized objective function value is printed to the screen with two decimal places\n",
    "print(\"Total Cost of Transportation = RM {:.2f}\".format(value(prob.objective)))"
   ]
  },
  {
   "cell_type": "code",
   "execution_count": null,
   "id": "af25c263",
   "metadata": {},
   "outputs": [],
   "source": []
  }
 ],
 "metadata": {
  "kernelspec": {
   "display_name": "Python 3 (ipykernel)",
   "language": "python",
   "name": "python3"
  },
  "language_info": {
   "codemirror_mode": {
    "name": "ipython",
    "version": 3
   },
   "file_extension": ".py",
   "mimetype": "text/x-python",
   "name": "python",
   "nbconvert_exporter": "python",
   "pygments_lexer": "ipython3",
   "version": "3.9.13"
  }
 },
 "nbformat": 4,
 "nbformat_minor": 5
}
